{
  "nbformat": 4,
  "nbformat_minor": 0,
  "metadata": {
    "colab": {
      "provenance": []
    },
    "kernelspec": {
      "name": "python3",
      "display_name": "Python 3"
    },
    "language_info": {
      "name": "python"
    }
  },
  "cells": [
    {
      "cell_type": "code",
      "execution_count": 2,
      "metadata": {
        "id": "P0YZ9u55tE1w"
      },
      "outputs": [],
      "source": [
        "#Import Dependicies\n",
        "import pandas as pd\n",
        "import tensorflow as tf\n",
        "import numpy as np\n",
        "from sklearn.model_selection import train_test_split\n",
        "from sklearn.preprocessing import StandardScaler"
      ]
    },
    {
      "cell_type": "code",
      "source": [
        "#Define Resourse path\n",
        "url=\"/content/charity_data.csv\""
      ],
      "metadata": {
        "id": "suZcsZ7j-PKl"
      },
      "execution_count": 3,
      "outputs": []
    },
    {
      "cell_type": "code",
      "source": [
        "# Import and read the charity_data.csv.\n",
        "charity_df = pd.read_csv(url)\n",
        "charity_df.head()"
      ],
      "metadata": {
        "colab": {
          "base_uri": "https://localhost:8080/",
          "height": 496
        },
        "id": "jz5187VCt6td",
        "outputId": "94b0565f-5938-47b9-f46c-e1faed9ab507"
      },
      "execution_count": 4,
      "outputs": [
        {
          "output_type": "execute_result",
          "data": {
            "text/plain": [
              "        EIN                                      NAME APPLICATION_TYPE  \\\n",
              "0  10520599              BLUE KNIGHTS MOTORCYCLE CLUB              T10   \n",
              "1  10531628    AMERICAN CHESAPEAKE CLUB CHARITABLE TR               T3   \n",
              "2  10547893        ST CLOUD PROFESSIONAL FIREFIGHTERS               T5   \n",
              "3  10553066            SOUTHSIDE ATHLETIC ASSOCIATION               T3   \n",
              "4  10556103  GENETIC RESEARCH INSTITUTE OF THE DESERT               T3   \n",
              "\n",
              "        AFFILIATION CLASSIFICATION      USE_CASE  ORGANIZATION  STATUS  \\\n",
              "0       Independent          C1000    ProductDev   Association       1   \n",
              "1       Independent          C2000  Preservation  Co-operative       1   \n",
              "2  CompanySponsored          C3000    ProductDev   Association       1   \n",
              "3  CompanySponsored          C2000  Preservation         Trust       1   \n",
              "4       Independent          C1000     Heathcare         Trust       1   \n",
              "\n",
              "      INCOME_AMT SPECIAL_CONSIDERATIONS  ASK_AMT  IS_SUCCESSFUL  \n",
              "0              0                      N     5000              1  \n",
              "1         1-9999                      N   108590              1  \n",
              "2              0                      N     5000              0  \n",
              "3    10000-24999                      N     6692              1  \n",
              "4  100000-499999                      N   142590              1  "
            ],
            "text/html": [
              "\n",
              "  <div id=\"df-4c462251-ba2d-4db2-b4f3-9eb27d127123\">\n",
              "    <div class=\"colab-df-container\">\n",
              "      <div>\n",
              "<style scoped>\n",
              "    .dataframe tbody tr th:only-of-type {\n",
              "        vertical-align: middle;\n",
              "    }\n",
              "\n",
              "    .dataframe tbody tr th {\n",
              "        vertical-align: top;\n",
              "    }\n",
              "\n",
              "    .dataframe thead th {\n",
              "        text-align: right;\n",
              "    }\n",
              "</style>\n",
              "<table border=\"1\" class=\"dataframe\">\n",
              "  <thead>\n",
              "    <tr style=\"text-align: right;\">\n",
              "      <th></th>\n",
              "      <th>EIN</th>\n",
              "      <th>NAME</th>\n",
              "      <th>APPLICATION_TYPE</th>\n",
              "      <th>AFFILIATION</th>\n",
              "      <th>CLASSIFICATION</th>\n",
              "      <th>USE_CASE</th>\n",
              "      <th>ORGANIZATION</th>\n",
              "      <th>STATUS</th>\n",
              "      <th>INCOME_AMT</th>\n",
              "      <th>SPECIAL_CONSIDERATIONS</th>\n",
              "      <th>ASK_AMT</th>\n",
              "      <th>IS_SUCCESSFUL</th>\n",
              "    </tr>\n",
              "  </thead>\n",
              "  <tbody>\n",
              "    <tr>\n",
              "      <th>0</th>\n",
              "      <td>10520599</td>\n",
              "      <td>BLUE KNIGHTS MOTORCYCLE CLUB</td>\n",
              "      <td>T10</td>\n",
              "      <td>Independent</td>\n",
              "      <td>C1000</td>\n",
              "      <td>ProductDev</td>\n",
              "      <td>Association</td>\n",
              "      <td>1</td>\n",
              "      <td>0</td>\n",
              "      <td>N</td>\n",
              "      <td>5000</td>\n",
              "      <td>1</td>\n",
              "    </tr>\n",
              "    <tr>\n",
              "      <th>1</th>\n",
              "      <td>10531628</td>\n",
              "      <td>AMERICAN CHESAPEAKE CLUB CHARITABLE TR</td>\n",
              "      <td>T3</td>\n",
              "      <td>Independent</td>\n",
              "      <td>C2000</td>\n",
              "      <td>Preservation</td>\n",
              "      <td>Co-operative</td>\n",
              "      <td>1</td>\n",
              "      <td>1-9999</td>\n",
              "      <td>N</td>\n",
              "      <td>108590</td>\n",
              "      <td>1</td>\n",
              "    </tr>\n",
              "    <tr>\n",
              "      <th>2</th>\n",
              "      <td>10547893</td>\n",
              "      <td>ST CLOUD PROFESSIONAL FIREFIGHTERS</td>\n",
              "      <td>T5</td>\n",
              "      <td>CompanySponsored</td>\n",
              "      <td>C3000</td>\n",
              "      <td>ProductDev</td>\n",
              "      <td>Association</td>\n",
              "      <td>1</td>\n",
              "      <td>0</td>\n",
              "      <td>N</td>\n",
              "      <td>5000</td>\n",
              "      <td>0</td>\n",
              "    </tr>\n",
              "    <tr>\n",
              "      <th>3</th>\n",
              "      <td>10553066</td>\n",
              "      <td>SOUTHSIDE ATHLETIC ASSOCIATION</td>\n",
              "      <td>T3</td>\n",
              "      <td>CompanySponsored</td>\n",
              "      <td>C2000</td>\n",
              "      <td>Preservation</td>\n",
              "      <td>Trust</td>\n",
              "      <td>1</td>\n",
              "      <td>10000-24999</td>\n",
              "      <td>N</td>\n",
              "      <td>6692</td>\n",
              "      <td>1</td>\n",
              "    </tr>\n",
              "    <tr>\n",
              "      <th>4</th>\n",
              "      <td>10556103</td>\n",
              "      <td>GENETIC RESEARCH INSTITUTE OF THE DESERT</td>\n",
              "      <td>T3</td>\n",
              "      <td>Independent</td>\n",
              "      <td>C1000</td>\n",
              "      <td>Heathcare</td>\n",
              "      <td>Trust</td>\n",
              "      <td>1</td>\n",
              "      <td>100000-499999</td>\n",
              "      <td>N</td>\n",
              "      <td>142590</td>\n",
              "      <td>1</td>\n",
              "    </tr>\n",
              "  </tbody>\n",
              "</table>\n",
              "</div>\n",
              "      <button class=\"colab-df-convert\" onclick=\"convertToInteractive('df-4c462251-ba2d-4db2-b4f3-9eb27d127123')\"\n",
              "              title=\"Convert this dataframe to an interactive table.\"\n",
              "              style=\"display:none;\">\n",
              "        \n",
              "  <svg xmlns=\"http://www.w3.org/2000/svg\" height=\"24px\"viewBox=\"0 0 24 24\"\n",
              "       width=\"24px\">\n",
              "    <path d=\"M0 0h24v24H0V0z\" fill=\"none\"/>\n",
              "    <path d=\"M18.56 5.44l.94 2.06.94-2.06 2.06-.94-2.06-.94-.94-2.06-.94 2.06-2.06.94zm-11 1L8.5 8.5l.94-2.06 2.06-.94-2.06-.94L8.5 2.5l-.94 2.06-2.06.94zm10 10l.94 2.06.94-2.06 2.06-.94-2.06-.94-.94-2.06-.94 2.06-2.06.94z\"/><path d=\"M17.41 7.96l-1.37-1.37c-.4-.4-.92-.59-1.43-.59-.52 0-1.04.2-1.43.59L10.3 9.45l-7.72 7.72c-.78.78-.78 2.05 0 2.83L4 21.41c.39.39.9.59 1.41.59.51 0 1.02-.2 1.41-.59l7.78-7.78 2.81-2.81c.8-.78.8-2.07 0-2.86zM5.41 20L4 18.59l7.72-7.72 1.47 1.35L5.41 20z\"/>\n",
              "  </svg>\n",
              "      </button>\n",
              "      \n",
              "  <style>\n",
              "    .colab-df-container {\n",
              "      display:flex;\n",
              "      flex-wrap:wrap;\n",
              "      gap: 12px;\n",
              "    }\n",
              "\n",
              "    .colab-df-convert {\n",
              "      background-color: #E8F0FE;\n",
              "      border: none;\n",
              "      border-radius: 50%;\n",
              "      cursor: pointer;\n",
              "      display: none;\n",
              "      fill: #1967D2;\n",
              "      height: 32px;\n",
              "      padding: 0 0 0 0;\n",
              "      width: 32px;\n",
              "    }\n",
              "\n",
              "    .colab-df-convert:hover {\n",
              "      background-color: #E2EBFA;\n",
              "      box-shadow: 0px 1px 2px rgba(60, 64, 67, 0.3), 0px 1px 3px 1px rgba(60, 64, 67, 0.15);\n",
              "      fill: #174EA6;\n",
              "    }\n",
              "\n",
              "    [theme=dark] .colab-df-convert {\n",
              "      background-color: #3B4455;\n",
              "      fill: #D2E3FC;\n",
              "    }\n",
              "\n",
              "    [theme=dark] .colab-df-convert:hover {\n",
              "      background-color: #434B5C;\n",
              "      box-shadow: 0px 1px 3px 1px rgba(0, 0, 0, 0.15);\n",
              "      filter: drop-shadow(0px 1px 2px rgba(0, 0, 0, 0.3));\n",
              "      fill: #FFFFFF;\n",
              "    }\n",
              "  </style>\n",
              "\n",
              "      <script>\n",
              "        const buttonEl =\n",
              "          document.querySelector('#df-4c462251-ba2d-4db2-b4f3-9eb27d127123 button.colab-df-convert');\n",
              "        buttonEl.style.display =\n",
              "          google.colab.kernel.accessAllowed ? 'block' : 'none';\n",
              "\n",
              "        async function convertToInteractive(key) {\n",
              "          const element = document.querySelector('#df-4c462251-ba2d-4db2-b4f3-9eb27d127123');\n",
              "          const dataTable =\n",
              "            await google.colab.kernel.invokeFunction('convertToInteractive',\n",
              "                                                     [key], {});\n",
              "          if (!dataTable) return;\n",
              "\n",
              "          const docLinkHtml = 'Like what you see? Visit the ' +\n",
              "            '<a target=\"_blank\" href=https://colab.research.google.com/notebooks/data_table.ipynb>data table notebook</a>'\n",
              "            + ' to learn more about interactive tables.';\n",
              "          element.innerHTML = '';\n",
              "          dataTable['output_type'] = 'display_data';\n",
              "          await google.colab.output.renderOutput(dataTable, element);\n",
              "          const docLink = document.createElement('div');\n",
              "          docLink.innerHTML = docLinkHtml;\n",
              "          element.appendChild(docLink);\n",
              "        }\n",
              "      </script>\n",
              "    </div>\n",
              "  </div>\n",
              "  "
            ]
          },
          "metadata": {},
          "execution_count": 4
        }
      ]
    },
    {
      "cell_type": "code",
      "source": [
        "#List the columns in the dataframe\n",
        "charity_df.columns"
      ],
      "metadata": {
        "colab": {
          "base_uri": "https://localhost:8080/"
        },
        "id": "aTakOQumt6xH",
        "outputId": "2c053a6c-4166-4a82-9bf9-7eb0b9ffc88e"
      },
      "execution_count": 5,
      "outputs": [
        {
          "output_type": "execute_result",
          "data": {
            "text/plain": [
              "Index(['EIN', 'NAME', 'APPLICATION_TYPE', 'AFFILIATION', 'CLASSIFICATION',\n",
              "       'USE_CASE', 'ORGANIZATION', 'STATUS', 'INCOME_AMT',\n",
              "       'SPECIAL_CONSIDERATIONS', 'ASK_AMT', 'IS_SUCCESSFUL'],\n",
              "      dtype='object')"
            ]
          },
          "metadata": {},
          "execution_count": 5
        }
      ]
    },
    {
      "cell_type": "code",
      "source": [
        "#Drop the EIN and NAME columns from the Dataframe\n",
        "charity_df.drop(['EIN', 'NAME'],axis=1,inplace=True)"
      ],
      "metadata": {
        "id": "jacDENd9t60j"
      },
      "execution_count": 6,
      "outputs": []
    },
    {
      "cell_type": "code",
      "source": [
        "charity_df[\"STATUS\"].unique()"
      ],
      "metadata": {
        "colab": {
          "base_uri": "https://localhost:8080/"
        },
        "id": "Dz4Arziit64B",
        "outputId": "74066cbb-3599-4de8-d445-22ca9dd8efba"
      },
      "execution_count": 7,
      "outputs": [
        {
          "output_type": "execute_result",
          "data": {
            "text/plain": [
              "array([1, 0])"
            ]
          },
          "metadata": {},
          "execution_count": 7
        }
      ]
    },
    {
      "cell_type": "code",
      "source": [
        "charity_df[\"INCOME_AMT\"].unique()"
      ],
      "metadata": {
        "colab": {
          "base_uri": "https://localhost:8080/"
        },
        "id": "KAd7xUl4t67L",
        "outputId": "9b2ec11b-c2f2-4958-b307-290bc4c05915"
      },
      "execution_count": 8,
      "outputs": [
        {
          "output_type": "execute_result",
          "data": {
            "text/plain": [
              "array(['0', '1-9999', '10000-24999', '100000-499999', '10M-50M',\n",
              "       '25000-99999', '50M+', '1M-5M', '5M-10M'], dtype=object)"
            ]
          },
          "metadata": {},
          "execution_count": 8
        }
      ]
    },
    {
      "cell_type": "code",
      "source": [
        "charity_df.info()"
      ],
      "metadata": {
        "colab": {
          "base_uri": "https://localhost:8080/"
        },
        "id": "MqFpbjyj-Qhk",
        "outputId": "d94195f5-48f5-40a1-853c-775117205df9"
      },
      "execution_count": 9,
      "outputs": [
        {
          "output_type": "stream",
          "name": "stdout",
          "text": [
            "<class 'pandas.core.frame.DataFrame'>\n",
            "RangeIndex: 34299 entries, 0 to 34298\n",
            "Data columns (total 10 columns):\n",
            " #   Column                  Non-Null Count  Dtype \n",
            "---  ------                  --------------  ----- \n",
            " 0   APPLICATION_TYPE        34299 non-null  object\n",
            " 1   AFFILIATION             34299 non-null  object\n",
            " 2   CLASSIFICATION          34299 non-null  object\n",
            " 3   USE_CASE                34299 non-null  object\n",
            " 4   ORGANIZATION            34299 non-null  object\n",
            " 5   STATUS                  34299 non-null  int64 \n",
            " 6   INCOME_AMT              34299 non-null  object\n",
            " 7   SPECIAL_CONSIDERATIONS  34299 non-null  object\n",
            " 8   ASK_AMT                 34299 non-null  int64 \n",
            " 9   IS_SUCCESSFUL           34299 non-null  int64 \n",
            "dtypes: int64(3), object(7)\n",
            "memory usage: 2.6+ MB\n"
          ]
        }
      ]
    },
    {
      "cell_type": "code",
      "source": [
        "#Find Number od Unique values in each Column\n",
        "charity_df.nunique()"
      ],
      "metadata": {
        "colab": {
          "base_uri": "https://localhost:8080/"
        },
        "id": "OirgyvhY_lgx",
        "outputId": "5656673a-8b02-4409-d223-c2712aa439b8"
      },
      "execution_count": 10,
      "outputs": [
        {
          "output_type": "execute_result",
          "data": {
            "text/plain": [
              "APPLICATION_TYPE            17\n",
              "AFFILIATION                  6\n",
              "CLASSIFICATION              71\n",
              "USE_CASE                     5\n",
              "ORGANIZATION                 4\n",
              "STATUS                       2\n",
              "INCOME_AMT                   9\n",
              "SPECIAL_CONSIDERATIONS       2\n",
              "ASK_AMT                   8747\n",
              "IS_SUCCESSFUL                2\n",
              "dtype: int64"
            ]
          },
          "metadata": {},
          "execution_count": 10
        }
      ]
    },
    {
      "cell_type": "code",
      "source": [
        "#bin \"rare\" categorical variables together in a new value, \"Other\"\n",
        "cutoff = 100\n",
        "other_columns_arr = charity_df[\"CLASSIFICATION\"].value_counts()[charity_df[\"CLASSIFICATION\"].value_counts()<cutoff].keys()\n",
        "other_columns_arr\n",
        "\n"
      ],
      "metadata": {
        "colab": {
          "base_uri": "https://localhost:8080/"
        },
        "id": "iyulE0Gm_xGr",
        "outputId": "6c48cf13-3e68-4c9d-b9ef-e3f53c01336d"
      },
      "execution_count": 11,
      "outputs": [
        {
          "output_type": "execute_result",
          "data": {
            "text/plain": [
              "Index(['C2800', 'C7100', 'C1300', 'C1280', 'C1230', 'C1400', 'C7200', 'C2300',\n",
              "       'C1240', 'C8000', 'C7120', 'C1500', 'C1800', 'C6000', 'C1250', 'C8200',\n",
              "       'C1238', 'C1278', 'C1235', 'C1237', 'C7210', 'C2400', 'C1720', 'C4100',\n",
              "       'C1257', 'C1600', 'C1260', 'C2710', 'C0', 'C3200', 'C1234', 'C1246',\n",
              "       'C1267', 'C1256', 'C2190', 'C4200', 'C2600', 'C5200', 'C1370', 'C1248',\n",
              "       'C6100', 'C1820', 'C1900', 'C1236', 'C3700', 'C2570', 'C1580', 'C1245',\n",
              "       'C2500', 'C1570', 'C1283', 'C2380', 'C1732', 'C1728', 'C2170', 'C4120',\n",
              "       'C8210', 'C2561', 'C4500', 'C2150'],\n",
              "      dtype='object')"
            ]
          },
          "metadata": {},
          "execution_count": 11
        }
      ]
    },
    {
      "cell_type": "code",
      "source": [
        "charity_df[\"CLASSIFICATION\"]"
      ],
      "metadata": {
        "colab": {
          "base_uri": "https://localhost:8080/"
        },
        "id": "XG8TCC7vFgM9",
        "outputId": "18d773b1-4b1d-4109-bb19-d515402903dc"
      },
      "execution_count": 12,
      "outputs": [
        {
          "output_type": "execute_result",
          "data": {
            "text/plain": [
              "0        C1000\n",
              "1        C2000\n",
              "2        C3000\n",
              "3        C2000\n",
              "4        C1000\n",
              "         ...  \n",
              "34294    C1000\n",
              "34295    C3000\n",
              "34296    C2000\n",
              "34297    C3000\n",
              "34298    C1000\n",
              "Name: CLASSIFICATION, Length: 34299, dtype: object"
            ]
          },
          "metadata": {},
          "execution_count": 12
        }
      ]
    },
    {
      "cell_type": "code",
      "source": [
        "charity_df[\"CLASSIFICATION\"][charity_df[\"CLASSIFICATION\"].isin(other_columns_arr)] = \"Other\""
      ],
      "metadata": {
        "colab": {
          "base_uri": "https://localhost:8080/"
        },
        "id": "ghwRIHh_D0lJ",
        "outputId": "580f006d-eaa7-4cf2-82b4-228ed83acf2f"
      },
      "execution_count": 13,
      "outputs": [
        {
          "output_type": "stream",
          "name": "stderr",
          "text": [
            "/usr/local/lib/python3.7/dist-packages/ipykernel_launcher.py:1: SettingWithCopyWarning: \n",
            "A value is trying to be set on a copy of a slice from a DataFrame\n",
            "\n",
            "See the caveats in the documentation: https://pandas.pydata.org/pandas-docs/stable/user_guide/indexing.html#returning-a-view-versus-a-copy\n",
            "  \"\"\"Entry point for launching an IPython kernel.\n"
          ]
        }
      ]
    },
    {
      "cell_type": "code",
      "source": [
        "charity_df[\"APPLICATION_TYPE\"].value_counts()"
      ],
      "metadata": {
        "colab": {
          "base_uri": "https://localhost:8080/"
        },
        "id": "Qu_GHKak-nB5",
        "outputId": "5524234a-e09d-4ab6-ed72-4ff0039f494b"
      },
      "execution_count": 14,
      "outputs": [
        {
          "output_type": "execute_result",
          "data": {
            "text/plain": [
              "T3     27037\n",
              "T4      1542\n",
              "T6      1216\n",
              "T5      1173\n",
              "T19     1065\n",
              "T8       737\n",
              "T7       725\n",
              "T10      528\n",
              "T9       156\n",
              "T13       66\n",
              "T12       27\n",
              "T2        16\n",
              "T25        3\n",
              "T14        3\n",
              "T29        2\n",
              "T15        2\n",
              "T17        1\n",
              "Name: APPLICATION_TYPE, dtype: int64"
            ]
          },
          "metadata": {},
          "execution_count": 14
        }
      ]
    },
    {
      "cell_type": "code",
      "source": [
        "cutoff = 100\n",
        "other_columns_arr1 = charity_df[\"APPLICATION_TYPE\"].value_counts()[charity_df[\"APPLICATION_TYPE\"].value_counts()<cutoff].keys()\n",
        "other_columns_arr1"
      ],
      "metadata": {
        "colab": {
          "base_uri": "https://localhost:8080/"
        },
        "id": "6COmVqmmGer0",
        "outputId": "cd81b1a5-eb5a-441d-9acc-c1f87d1a9d42"
      },
      "execution_count": 15,
      "outputs": [
        {
          "output_type": "execute_result",
          "data": {
            "text/plain": [
              "Index(['T13', 'T12', 'T2', 'T25', 'T14', 'T29', 'T15', 'T17'], dtype='object')"
            ]
          },
          "metadata": {},
          "execution_count": 15
        }
      ]
    },
    {
      "cell_type": "code",
      "source": [
        "# pd.get_dummies(data, prefix=None, prefix_sep=’_’, dummy_na=False, columns=None, sparse=False, drop_first=False, dtype=None)\n",
        "ohe_columns = ['APPLICATION_TYPE', 'AFFILIATION', 'CLASSIFICATION',\n",
        "       'USE_CASE', 'ORGANIZATION', 'INCOME_AMT', 'SPECIAL_CONSIDERATIONS']\n",
        "ohe_df = pd.get_dummies(charity_df, columns=ohe_columns)"
      ],
      "metadata": {
        "id": "91xgN0t8t6-P"
      },
      "execution_count": 16,
      "outputs": []
    },
    {
      "cell_type": "code",
      "source": [
        "charity_df"
      ],
      "metadata": {
        "colab": {
          "base_uri": "https://localhost:8080/",
          "height": 522
        },
        "id": "g-clz_ZRM1hZ",
        "outputId": "74f5e254-6a38-418b-e8eb-d7e01bec9e60"
      },
      "execution_count": 17,
      "outputs": [
        {
          "output_type": "execute_result",
          "data": {
            "text/plain": [
              "      APPLICATION_TYPE       AFFILIATION CLASSIFICATION      USE_CASE  \\\n",
              "0                  T10       Independent          C1000    ProductDev   \n",
              "1                   T3       Independent          C2000  Preservation   \n",
              "2                   T5  CompanySponsored          C3000    ProductDev   \n",
              "3                   T3  CompanySponsored          C2000  Preservation   \n",
              "4                   T3       Independent          C1000     Heathcare   \n",
              "...                ...               ...            ...           ...   \n",
              "34294               T4       Independent          C1000    ProductDev   \n",
              "34295               T4  CompanySponsored          C3000    ProductDev   \n",
              "34296               T3  CompanySponsored          C2000  Preservation   \n",
              "34297               T5       Independent          C3000    ProductDev   \n",
              "34298               T3       Independent          C1000  Preservation   \n",
              "\n",
              "       ORGANIZATION  STATUS     INCOME_AMT SPECIAL_CONSIDERATIONS   ASK_AMT  \\\n",
              "0       Association       1              0                      N      5000   \n",
              "1      Co-operative       1         1-9999                      N    108590   \n",
              "2       Association       1              0                      N      5000   \n",
              "3             Trust       1    10000-24999                      N      6692   \n",
              "4             Trust       1  100000-499999                      N    142590   \n",
              "...             ...     ...            ...                    ...       ...   \n",
              "34294   Association       1              0                      N      5000   \n",
              "34295   Association       1              0                      N      5000   \n",
              "34296   Association       1              0                      N      5000   \n",
              "34297   Association       1              0                      N      5000   \n",
              "34298  Co-operative       1          1M-5M                      N  36500179   \n",
              "\n",
              "       IS_SUCCESSFUL  \n",
              "0                  1  \n",
              "1                  1  \n",
              "2                  0  \n",
              "3                  1  \n",
              "4                  1  \n",
              "...              ...  \n",
              "34294              0  \n",
              "34295              0  \n",
              "34296              0  \n",
              "34297              1  \n",
              "34298              0  \n",
              "\n",
              "[34299 rows x 10 columns]"
            ],
            "text/html": [
              "\n",
              "  <div id=\"df-4200f4b8-bd65-4b17-9e20-305c4f214b7b\">\n",
              "    <div class=\"colab-df-container\">\n",
              "      <div>\n",
              "<style scoped>\n",
              "    .dataframe tbody tr th:only-of-type {\n",
              "        vertical-align: middle;\n",
              "    }\n",
              "\n",
              "    .dataframe tbody tr th {\n",
              "        vertical-align: top;\n",
              "    }\n",
              "\n",
              "    .dataframe thead th {\n",
              "        text-align: right;\n",
              "    }\n",
              "</style>\n",
              "<table border=\"1\" class=\"dataframe\">\n",
              "  <thead>\n",
              "    <tr style=\"text-align: right;\">\n",
              "      <th></th>\n",
              "      <th>APPLICATION_TYPE</th>\n",
              "      <th>AFFILIATION</th>\n",
              "      <th>CLASSIFICATION</th>\n",
              "      <th>USE_CASE</th>\n",
              "      <th>ORGANIZATION</th>\n",
              "      <th>STATUS</th>\n",
              "      <th>INCOME_AMT</th>\n",
              "      <th>SPECIAL_CONSIDERATIONS</th>\n",
              "      <th>ASK_AMT</th>\n",
              "      <th>IS_SUCCESSFUL</th>\n",
              "    </tr>\n",
              "  </thead>\n",
              "  <tbody>\n",
              "    <tr>\n",
              "      <th>0</th>\n",
              "      <td>T10</td>\n",
              "      <td>Independent</td>\n",
              "      <td>C1000</td>\n",
              "      <td>ProductDev</td>\n",
              "      <td>Association</td>\n",
              "      <td>1</td>\n",
              "      <td>0</td>\n",
              "      <td>N</td>\n",
              "      <td>5000</td>\n",
              "      <td>1</td>\n",
              "    </tr>\n",
              "    <tr>\n",
              "      <th>1</th>\n",
              "      <td>T3</td>\n",
              "      <td>Independent</td>\n",
              "      <td>C2000</td>\n",
              "      <td>Preservation</td>\n",
              "      <td>Co-operative</td>\n",
              "      <td>1</td>\n",
              "      <td>1-9999</td>\n",
              "      <td>N</td>\n",
              "      <td>108590</td>\n",
              "      <td>1</td>\n",
              "    </tr>\n",
              "    <tr>\n",
              "      <th>2</th>\n",
              "      <td>T5</td>\n",
              "      <td>CompanySponsored</td>\n",
              "      <td>C3000</td>\n",
              "      <td>ProductDev</td>\n",
              "      <td>Association</td>\n",
              "      <td>1</td>\n",
              "      <td>0</td>\n",
              "      <td>N</td>\n",
              "      <td>5000</td>\n",
              "      <td>0</td>\n",
              "    </tr>\n",
              "    <tr>\n",
              "      <th>3</th>\n",
              "      <td>T3</td>\n",
              "      <td>CompanySponsored</td>\n",
              "      <td>C2000</td>\n",
              "      <td>Preservation</td>\n",
              "      <td>Trust</td>\n",
              "      <td>1</td>\n",
              "      <td>10000-24999</td>\n",
              "      <td>N</td>\n",
              "      <td>6692</td>\n",
              "      <td>1</td>\n",
              "    </tr>\n",
              "    <tr>\n",
              "      <th>4</th>\n",
              "      <td>T3</td>\n",
              "      <td>Independent</td>\n",
              "      <td>C1000</td>\n",
              "      <td>Heathcare</td>\n",
              "      <td>Trust</td>\n",
              "      <td>1</td>\n",
              "      <td>100000-499999</td>\n",
              "      <td>N</td>\n",
              "      <td>142590</td>\n",
              "      <td>1</td>\n",
              "    </tr>\n",
              "    <tr>\n",
              "      <th>...</th>\n",
              "      <td>...</td>\n",
              "      <td>...</td>\n",
              "      <td>...</td>\n",
              "      <td>...</td>\n",
              "      <td>...</td>\n",
              "      <td>...</td>\n",
              "      <td>...</td>\n",
              "      <td>...</td>\n",
              "      <td>...</td>\n",
              "      <td>...</td>\n",
              "    </tr>\n",
              "    <tr>\n",
              "      <th>34294</th>\n",
              "      <td>T4</td>\n",
              "      <td>Independent</td>\n",
              "      <td>C1000</td>\n",
              "      <td>ProductDev</td>\n",
              "      <td>Association</td>\n",
              "      <td>1</td>\n",
              "      <td>0</td>\n",
              "      <td>N</td>\n",
              "      <td>5000</td>\n",
              "      <td>0</td>\n",
              "    </tr>\n",
              "    <tr>\n",
              "      <th>34295</th>\n",
              "      <td>T4</td>\n",
              "      <td>CompanySponsored</td>\n",
              "      <td>C3000</td>\n",
              "      <td>ProductDev</td>\n",
              "      <td>Association</td>\n",
              "      <td>1</td>\n",
              "      <td>0</td>\n",
              "      <td>N</td>\n",
              "      <td>5000</td>\n",
              "      <td>0</td>\n",
              "    </tr>\n",
              "    <tr>\n",
              "      <th>34296</th>\n",
              "      <td>T3</td>\n",
              "      <td>CompanySponsored</td>\n",
              "      <td>C2000</td>\n",
              "      <td>Preservation</td>\n",
              "      <td>Association</td>\n",
              "      <td>1</td>\n",
              "      <td>0</td>\n",
              "      <td>N</td>\n",
              "      <td>5000</td>\n",
              "      <td>0</td>\n",
              "    </tr>\n",
              "    <tr>\n",
              "      <th>34297</th>\n",
              "      <td>T5</td>\n",
              "      <td>Independent</td>\n",
              "      <td>C3000</td>\n",
              "      <td>ProductDev</td>\n",
              "      <td>Association</td>\n",
              "      <td>1</td>\n",
              "      <td>0</td>\n",
              "      <td>N</td>\n",
              "      <td>5000</td>\n",
              "      <td>1</td>\n",
              "    </tr>\n",
              "    <tr>\n",
              "      <th>34298</th>\n",
              "      <td>T3</td>\n",
              "      <td>Independent</td>\n",
              "      <td>C1000</td>\n",
              "      <td>Preservation</td>\n",
              "      <td>Co-operative</td>\n",
              "      <td>1</td>\n",
              "      <td>1M-5M</td>\n",
              "      <td>N</td>\n",
              "      <td>36500179</td>\n",
              "      <td>0</td>\n",
              "    </tr>\n",
              "  </tbody>\n",
              "</table>\n",
              "<p>34299 rows × 10 columns</p>\n",
              "</div>\n",
              "      <button class=\"colab-df-convert\" onclick=\"convertToInteractive('df-4200f4b8-bd65-4b17-9e20-305c4f214b7b')\"\n",
              "              title=\"Convert this dataframe to an interactive table.\"\n",
              "              style=\"display:none;\">\n",
              "        \n",
              "  <svg xmlns=\"http://www.w3.org/2000/svg\" height=\"24px\"viewBox=\"0 0 24 24\"\n",
              "       width=\"24px\">\n",
              "    <path d=\"M0 0h24v24H0V0z\" fill=\"none\"/>\n",
              "    <path d=\"M18.56 5.44l.94 2.06.94-2.06 2.06-.94-2.06-.94-.94-2.06-.94 2.06-2.06.94zm-11 1L8.5 8.5l.94-2.06 2.06-.94-2.06-.94L8.5 2.5l-.94 2.06-2.06.94zm10 10l.94 2.06.94-2.06 2.06-.94-2.06-.94-.94-2.06-.94 2.06-2.06.94z\"/><path d=\"M17.41 7.96l-1.37-1.37c-.4-.4-.92-.59-1.43-.59-.52 0-1.04.2-1.43.59L10.3 9.45l-7.72 7.72c-.78.78-.78 2.05 0 2.83L4 21.41c.39.39.9.59 1.41.59.51 0 1.02-.2 1.41-.59l7.78-7.78 2.81-2.81c.8-.78.8-2.07 0-2.86zM5.41 20L4 18.59l7.72-7.72 1.47 1.35L5.41 20z\"/>\n",
              "  </svg>\n",
              "      </button>\n",
              "      \n",
              "  <style>\n",
              "    .colab-df-container {\n",
              "      display:flex;\n",
              "      flex-wrap:wrap;\n",
              "      gap: 12px;\n",
              "    }\n",
              "\n",
              "    .colab-df-convert {\n",
              "      background-color: #E8F0FE;\n",
              "      border: none;\n",
              "      border-radius: 50%;\n",
              "      cursor: pointer;\n",
              "      display: none;\n",
              "      fill: #1967D2;\n",
              "      height: 32px;\n",
              "      padding: 0 0 0 0;\n",
              "      width: 32px;\n",
              "    }\n",
              "\n",
              "    .colab-df-convert:hover {\n",
              "      background-color: #E2EBFA;\n",
              "      box-shadow: 0px 1px 2px rgba(60, 64, 67, 0.3), 0px 1px 3px 1px rgba(60, 64, 67, 0.15);\n",
              "      fill: #174EA6;\n",
              "    }\n",
              "\n",
              "    [theme=dark] .colab-df-convert {\n",
              "      background-color: #3B4455;\n",
              "      fill: #D2E3FC;\n",
              "    }\n",
              "\n",
              "    [theme=dark] .colab-df-convert:hover {\n",
              "      background-color: #434B5C;\n",
              "      box-shadow: 0px 1px 3px 1px rgba(0, 0, 0, 0.15);\n",
              "      filter: drop-shadow(0px 1px 2px rgba(0, 0, 0, 0.3));\n",
              "      fill: #FFFFFF;\n",
              "    }\n",
              "  </style>\n",
              "\n",
              "      <script>\n",
              "        const buttonEl =\n",
              "          document.querySelector('#df-4200f4b8-bd65-4b17-9e20-305c4f214b7b button.colab-df-convert');\n",
              "        buttonEl.style.display =\n",
              "          google.colab.kernel.accessAllowed ? 'block' : 'none';\n",
              "\n",
              "        async function convertToInteractive(key) {\n",
              "          const element = document.querySelector('#df-4200f4b8-bd65-4b17-9e20-305c4f214b7b');\n",
              "          const dataTable =\n",
              "            await google.colab.kernel.invokeFunction('convertToInteractive',\n",
              "                                                     [key], {});\n",
              "          if (!dataTable) return;\n",
              "\n",
              "          const docLinkHtml = 'Like what you see? Visit the ' +\n",
              "            '<a target=\"_blank\" href=https://colab.research.google.com/notebooks/data_table.ipynb>data table notebook</a>'\n",
              "            + ' to learn more about interactive tables.';\n",
              "          element.innerHTML = '';\n",
              "          dataTable['output_type'] = 'display_data';\n",
              "          await google.colab.output.renderOutput(dataTable, element);\n",
              "          const docLink = document.createElement('div');\n",
              "          docLink.innerHTML = docLinkHtml;\n",
              "          element.appendChild(docLink);\n",
              "        }\n",
              "      </script>\n",
              "    </div>\n",
              "  </div>\n",
              "  "
            ]
          },
          "metadata": {},
          "execution_count": 17
        }
      ]
    },
    {
      "cell_type": "code",
      "source": [
        "len(ohe_df.columns)"
      ],
      "metadata": {
        "colab": {
          "base_uri": "https://localhost:8080/"
        },
        "id": "GR4yEWJyt7BL",
        "outputId": "debe1113-9857-483e-e694-511e931eb3ad"
      },
      "execution_count": 18,
      "outputs": [
        {
          "output_type": "execute_result",
          "data": {
            "text/plain": [
              "58"
            ]
          },
          "metadata": {},
          "execution_count": 18
        }
      ]
    },
    {
      "cell_type": "code",
      "source": [
        "# Split our preprocessed data into our features and target arrays\n",
        "y = ohe_df['IS_SUCCESSFUL'].values\n",
        "y\n",
        "\n",
        "# drop 'IS SUCCESSFUL'\n",
        "X = ohe_df.drop('IS_SUCCESSFUL', axis=1).values\n",
        "X"
      ],
      "metadata": {
        "colab": {
          "base_uri": "https://localhost:8080/"
        },
        "id": "inX2_TCZMZS4",
        "outputId": "4f0a5372-6e2c-4570-bd4d-98ab8dc249fd"
      },
      "execution_count": 19,
      "outputs": [
        {
          "output_type": "execute_result",
          "data": {
            "text/plain": [
              "array([[       1,     5000,        1, ...,        0,        1,        0],\n",
              "       [       1,   108590,        0, ...,        0,        1,        0],\n",
              "       [       1,     5000,        0, ...,        0,        1,        0],\n",
              "       ...,\n",
              "       [       1,     5000,        0, ...,        0,        1,        0],\n",
              "       [       1,     5000,        0, ...,        0,        1,        0],\n",
              "       [       1, 36500179,        0, ...,        0,        1,        0]])"
            ]
          },
          "metadata": {},
          "execution_count": 19
        }
      ]
    },
    {
      "cell_type": "code",
      "source": [
        "# Split the preprocessed data into a training and testing dataset\n",
        "X_train, X_test, y_train, y_test = train_test_split(X,y,random_state = 42)"
      ],
      "metadata": {
        "id": "n6N0hUtpMZIA"
      },
      "execution_count": 20,
      "outputs": []
    },
    {
      "cell_type": "code",
      "source": [
        "# Create a StandardScaler instances\n",
        "scaler = StandardScaler()\n",
        "\n",
        "# Fit the StandardScaler\n",
        "X_scaler = scaler.fit(X_train)\n",
        "\n",
        "# Scale the data\n",
        "X_train_scaled = X_scaler.transform(X_train)\n",
        "X_test_scaled = X_scaler.transform(X_test)"
      ],
      "metadata": {
        "id": "PPEQNAigMZAU"
      },
      "execution_count": 21,
      "outputs": []
    },
    {
      "cell_type": "code",
      "source": [
        "# Define the model - deep neural net, i.e., the number of input features and hidden nodes for each layer.\n",
        "number_input_features = len( X_train_scaled[0])\n",
        "hidden_nodes_layer1=8\n",
        "hidden_nodes_layer2=16\n",
        "hidden_nodes_layer3=16\n",
        "nn = tf.keras.models.Sequential()\n",
        "\n",
        "\n",
        "# First hidden layer\n",
        "nn.add(tf.keras.layers.Dense(units=hidden_nodes_layer1, input_dim=number_input_features, activation='relu'))\n",
        "\n",
        "# Second hidden layer\n",
        "nn.add(tf.keras.layers.Dense(units=hidden_nodes_layer2, activation='relu'))\n",
        "\n",
        "# Output layer\n",
        "nn.add(tf.keras.layers.Dense(units=1, activation='sigmoid'))\n",
        "\n",
        "# Check the structure of the model\n",
        "nn.summary()"
      ],
      "metadata": {
        "colab": {
          "base_uri": "https://localhost:8080/"
        },
        "id": "E-ypOIl_Vr5r",
        "outputId": "ffd2f6b2-04af-4d2e-f926-fa1e1bc98708"
      },
      "execution_count": 22,
      "outputs": [
        {
          "output_type": "stream",
          "name": "stdout",
          "text": [
            "Model: \"sequential\"\n",
            "_________________________________________________________________\n",
            " Layer (type)                Output Shape              Param #   \n",
            "=================================================================\n",
            " dense (Dense)               (None, 8)                 464       \n",
            "                                                                 \n",
            " dense_1 (Dense)             (None, 16)                144       \n",
            "                                                                 \n",
            " dense_2 (Dense)             (None, 1)                 17        \n",
            "                                                                 \n",
            "=================================================================\n",
            "Total params: 625\n",
            "Trainable params: 625\n",
            "Non-trainable params: 0\n",
            "_________________________________________________________________\n"
          ]
        }
      ]
    },
    {
      "cell_type": "code",
      "source": [
        "# Compile the model\n",
        "nn.compile(loss = 'binary_crossentropy', optimizer = 'adam', metrics=['accuracy'])\n",
        "\n",
        "# Train the model\n",
        "fit_model = nn.fit(X_train_scaled,y_train,validation_split=0.15, epochs=100)"
      ],
      "metadata": {
        "colab": {
          "base_uri": "https://localhost:8080/"
        },
        "id": "YR8nd46jV5Ku",
        "outputId": "ee6af4f3-b2af-413c-c36c-7c5549c5ce59"
      },
      "execution_count": 23,
      "outputs": [
        {
          "output_type": "stream",
          "name": "stdout",
          "text": [
            "Epoch 1/100\n",
            "684/684 [==============================] - 3s 3ms/step - loss: 0.6065 - accuracy: 0.6923 - val_loss: 0.5591 - val_accuracy: 0.7287\n",
            "Epoch 2/100\n",
            "684/684 [==============================] - 2s 2ms/step - loss: 0.5653 - accuracy: 0.7220 - val_loss: 0.5518 - val_accuracy: 0.7331\n",
            "Epoch 3/100\n",
            "684/684 [==============================] - 2s 2ms/step - loss: 0.5596 - accuracy: 0.7262 - val_loss: 0.5481 - val_accuracy: 0.7372\n",
            "Epoch 4/100\n",
            "684/684 [==============================] - 2s 2ms/step - loss: 0.5559 - accuracy: 0.7277 - val_loss: 0.5478 - val_accuracy: 0.7357\n",
            "Epoch 5/100\n",
            "684/684 [==============================] - 2s 2ms/step - loss: 0.5540 - accuracy: 0.7294 - val_loss: 0.5455 - val_accuracy: 0.7346\n",
            "Epoch 6/100\n",
            "684/684 [==============================] - 2s 3ms/step - loss: 0.5529 - accuracy: 0.7306 - val_loss: 0.5458 - val_accuracy: 0.7336\n",
            "Epoch 7/100\n",
            "684/684 [==============================] - 2s 2ms/step - loss: 0.5519 - accuracy: 0.7303 - val_loss: 0.5455 - val_accuracy: 0.7359\n",
            "Epoch 8/100\n",
            "684/684 [==============================] - 1s 2ms/step - loss: 0.5509 - accuracy: 0.7310 - val_loss: 0.5458 - val_accuracy: 0.7367\n",
            "Epoch 9/100\n",
            "684/684 [==============================] - 2s 2ms/step - loss: 0.5506 - accuracy: 0.7308 - val_loss: 0.5443 - val_accuracy: 0.7349\n",
            "Epoch 10/100\n",
            "684/684 [==============================] - 2s 2ms/step - loss: 0.5504 - accuracy: 0.7302 - val_loss: 0.5450 - val_accuracy: 0.7354\n",
            "Epoch 11/100\n",
            "684/684 [==============================] - 2s 2ms/step - loss: 0.5497 - accuracy: 0.7302 - val_loss: 0.5449 - val_accuracy: 0.7344\n",
            "Epoch 12/100\n",
            "684/684 [==============================] - 2s 2ms/step - loss: 0.5496 - accuracy: 0.7318 - val_loss: 0.5436 - val_accuracy: 0.7334\n",
            "Epoch 13/100\n",
            "684/684 [==============================] - 1s 2ms/step - loss: 0.5488 - accuracy: 0.7323 - val_loss: 0.5439 - val_accuracy: 0.7349\n",
            "Epoch 14/100\n",
            "684/684 [==============================] - 1s 2ms/step - loss: 0.5487 - accuracy: 0.7313 - val_loss: 0.5440 - val_accuracy: 0.7339\n",
            "Epoch 15/100\n",
            "684/684 [==============================] - 1s 2ms/step - loss: 0.5484 - accuracy: 0.7313 - val_loss: 0.5437 - val_accuracy: 0.7341\n",
            "Epoch 16/100\n",
            "684/684 [==============================] - 1s 2ms/step - loss: 0.5482 - accuracy: 0.7325 - val_loss: 0.5436 - val_accuracy: 0.7331\n",
            "Epoch 17/100\n",
            "684/684 [==============================] - 1s 2ms/step - loss: 0.5479 - accuracy: 0.7320 - val_loss: 0.5452 - val_accuracy: 0.7344\n",
            "Epoch 18/100\n",
            "684/684 [==============================] - 2s 2ms/step - loss: 0.5477 - accuracy: 0.7321 - val_loss: 0.5436 - val_accuracy: 0.7334\n",
            "Epoch 19/100\n",
            "684/684 [==============================] - 1s 2ms/step - loss: 0.5474 - accuracy: 0.7328 - val_loss: 0.5455 - val_accuracy: 0.7367\n",
            "Epoch 20/100\n",
            "684/684 [==============================] - 2s 2ms/step - loss: 0.5470 - accuracy: 0.7314 - val_loss: 0.5445 - val_accuracy: 0.7341\n",
            "Epoch 21/100\n",
            "684/684 [==============================] - 1s 2ms/step - loss: 0.5471 - accuracy: 0.7318 - val_loss: 0.5444 - val_accuracy: 0.7352\n",
            "Epoch 22/100\n",
            "684/684 [==============================] - 2s 2ms/step - loss: 0.5468 - accuracy: 0.7324 - val_loss: 0.5445 - val_accuracy: 0.7354\n",
            "Epoch 23/100\n",
            "684/684 [==============================] - 2s 2ms/step - loss: 0.5466 - accuracy: 0.7321 - val_loss: 0.5422 - val_accuracy: 0.7341\n",
            "Epoch 24/100\n",
            "684/684 [==============================] - 2s 2ms/step - loss: 0.5465 - accuracy: 0.7319 - val_loss: 0.5435 - val_accuracy: 0.7362\n",
            "Epoch 25/100\n",
            "684/684 [==============================] - 2s 2ms/step - loss: 0.5462 - accuracy: 0.7314 - val_loss: 0.5432 - val_accuracy: 0.7344\n",
            "Epoch 26/100\n",
            "684/684 [==============================] - 1s 2ms/step - loss: 0.5460 - accuracy: 0.7322 - val_loss: 0.5441 - val_accuracy: 0.7359\n",
            "Epoch 27/100\n",
            "684/684 [==============================] - 1s 2ms/step - loss: 0.5461 - accuracy: 0.7331 - val_loss: 0.5433 - val_accuracy: 0.7354\n",
            "Epoch 28/100\n",
            "684/684 [==============================] - 1s 2ms/step - loss: 0.5458 - accuracy: 0.7331 - val_loss: 0.5432 - val_accuracy: 0.7349\n",
            "Epoch 29/100\n",
            "684/684 [==============================] - 2s 2ms/step - loss: 0.5460 - accuracy: 0.7334 - val_loss: 0.5440 - val_accuracy: 0.7359\n",
            "Epoch 30/100\n",
            "684/684 [==============================] - 2s 2ms/step - loss: 0.5457 - accuracy: 0.7336 - val_loss: 0.5423 - val_accuracy: 0.7344\n",
            "Epoch 31/100\n",
            "684/684 [==============================] - 1s 2ms/step - loss: 0.5454 - accuracy: 0.7330 - val_loss: 0.5424 - val_accuracy: 0.7365\n",
            "Epoch 32/100\n",
            "684/684 [==============================] - 2s 2ms/step - loss: 0.5453 - accuracy: 0.7320 - val_loss: 0.5431 - val_accuracy: 0.7365\n",
            "Epoch 33/100\n",
            "684/684 [==============================] - 1s 2ms/step - loss: 0.5453 - accuracy: 0.7324 - val_loss: 0.5408 - val_accuracy: 0.7370\n",
            "Epoch 34/100\n",
            "684/684 [==============================] - 1s 2ms/step - loss: 0.5452 - accuracy: 0.7333 - val_loss: 0.5417 - val_accuracy: 0.7357\n",
            "Epoch 35/100\n",
            "684/684 [==============================] - 2s 2ms/step - loss: 0.5456 - accuracy: 0.7327 - val_loss: 0.5419 - val_accuracy: 0.7349\n",
            "Epoch 36/100\n",
            "684/684 [==============================] - 1s 2ms/step - loss: 0.5451 - accuracy: 0.7327 - val_loss: 0.5417 - val_accuracy: 0.7385\n",
            "Epoch 37/100\n",
            "684/684 [==============================] - 1s 2ms/step - loss: 0.5448 - accuracy: 0.7335 - val_loss: 0.5424 - val_accuracy: 0.7341\n",
            "Epoch 38/100\n",
            "684/684 [==============================] - 2s 2ms/step - loss: 0.5447 - accuracy: 0.7343 - val_loss: 0.5417 - val_accuracy: 0.7378\n",
            "Epoch 39/100\n",
            "684/684 [==============================] - 1s 2ms/step - loss: 0.5442 - accuracy: 0.7331 - val_loss: 0.5438 - val_accuracy: 0.7352\n",
            "Epoch 40/100\n",
            "684/684 [==============================] - 1s 2ms/step - loss: 0.5447 - accuracy: 0.7340 - val_loss: 0.5410 - val_accuracy: 0.7367\n",
            "Epoch 41/100\n",
            "684/684 [==============================] - 1s 2ms/step - loss: 0.5440 - accuracy: 0.7337 - val_loss: 0.5410 - val_accuracy: 0.7393\n",
            "Epoch 42/100\n",
            "684/684 [==============================] - 2s 2ms/step - loss: 0.5442 - accuracy: 0.7329 - val_loss: 0.5420 - val_accuracy: 0.7359\n",
            "Epoch 43/100\n",
            "684/684 [==============================] - 2s 2ms/step - loss: 0.5443 - accuracy: 0.7343 - val_loss: 0.5419 - val_accuracy: 0.7341\n",
            "Epoch 44/100\n",
            "684/684 [==============================] - 1s 2ms/step - loss: 0.5439 - accuracy: 0.7342 - val_loss: 0.5423 - val_accuracy: 0.7367\n",
            "Epoch 45/100\n",
            "684/684 [==============================] - 2s 2ms/step - loss: 0.5441 - accuracy: 0.7340 - val_loss: 0.5409 - val_accuracy: 0.7370\n",
            "Epoch 46/100\n",
            "684/684 [==============================] - 2s 2ms/step - loss: 0.5440 - accuracy: 0.7327 - val_loss: 0.5425 - val_accuracy: 0.7357\n",
            "Epoch 47/100\n",
            "684/684 [==============================] - 1s 2ms/step - loss: 0.5441 - accuracy: 0.7332 - val_loss: 0.5433 - val_accuracy: 0.7370\n",
            "Epoch 48/100\n",
            "684/684 [==============================] - 1s 2ms/step - loss: 0.5438 - accuracy: 0.7336 - val_loss: 0.5413 - val_accuracy: 0.7352\n",
            "Epoch 49/100\n",
            "684/684 [==============================] - 1s 2ms/step - loss: 0.5438 - accuracy: 0.7347 - val_loss: 0.5425 - val_accuracy: 0.7359\n",
            "Epoch 50/100\n",
            "684/684 [==============================] - 2s 2ms/step - loss: 0.5435 - accuracy: 0.7340 - val_loss: 0.5425 - val_accuracy: 0.7370\n",
            "Epoch 51/100\n",
            "684/684 [==============================] - 2s 2ms/step - loss: 0.5436 - accuracy: 0.7350 - val_loss: 0.5415 - val_accuracy: 0.7357\n",
            "Epoch 52/100\n",
            "684/684 [==============================] - 2s 2ms/step - loss: 0.5434 - accuracy: 0.7340 - val_loss: 0.5441 - val_accuracy: 0.7375\n",
            "Epoch 53/100\n",
            "684/684 [==============================] - 1s 2ms/step - loss: 0.5436 - accuracy: 0.7331 - val_loss: 0.5426 - val_accuracy: 0.7367\n",
            "Epoch 54/100\n",
            "684/684 [==============================] - 2s 2ms/step - loss: 0.5437 - accuracy: 0.7345 - val_loss: 0.5416 - val_accuracy: 0.7352\n",
            "Epoch 55/100\n",
            "684/684 [==============================] - 2s 2ms/step - loss: 0.5432 - accuracy: 0.7341 - val_loss: 0.5421 - val_accuracy: 0.7383\n",
            "Epoch 56/100\n",
            "684/684 [==============================] - 1s 2ms/step - loss: 0.5431 - accuracy: 0.7349 - val_loss: 0.5430 - val_accuracy: 0.7354\n",
            "Epoch 57/100\n",
            "684/684 [==============================] - 2s 2ms/step - loss: 0.5430 - accuracy: 0.7340 - val_loss: 0.5423 - val_accuracy: 0.7388\n",
            "Epoch 58/100\n",
            "684/684 [==============================] - 1s 2ms/step - loss: 0.5429 - accuracy: 0.7353 - val_loss: 0.5420 - val_accuracy: 0.7372\n",
            "Epoch 59/100\n",
            "684/684 [==============================] - 2s 2ms/step - loss: 0.5429 - accuracy: 0.7347 - val_loss: 0.5426 - val_accuracy: 0.7380\n",
            "Epoch 60/100\n",
            "684/684 [==============================] - 1s 2ms/step - loss: 0.5428 - accuracy: 0.7350 - val_loss: 0.5410 - val_accuracy: 0.7378\n",
            "Epoch 61/100\n",
            "684/684 [==============================] - 1s 2ms/step - loss: 0.5428 - accuracy: 0.7353 - val_loss: 0.5419 - val_accuracy: 0.7362\n",
            "Epoch 62/100\n",
            "684/684 [==============================] - 2s 2ms/step - loss: 0.5425 - accuracy: 0.7336 - val_loss: 0.5426 - val_accuracy: 0.7378\n",
            "Epoch 63/100\n",
            "684/684 [==============================] - 2s 2ms/step - loss: 0.5428 - accuracy: 0.7340 - val_loss: 0.5423 - val_accuracy: 0.7367\n",
            "Epoch 64/100\n",
            "684/684 [==============================] - 2s 2ms/step - loss: 0.5427 - accuracy: 0.7356 - val_loss: 0.5406 - val_accuracy: 0.7393\n",
            "Epoch 65/100\n",
            "684/684 [==============================] - 1s 2ms/step - loss: 0.5428 - accuracy: 0.7342 - val_loss: 0.5408 - val_accuracy: 0.7372\n",
            "Epoch 66/100\n",
            "684/684 [==============================] - 2s 2ms/step - loss: 0.5425 - accuracy: 0.7344 - val_loss: 0.5417 - val_accuracy: 0.7391\n",
            "Epoch 67/100\n",
            "684/684 [==============================] - 1s 2ms/step - loss: 0.5421 - accuracy: 0.7343 - val_loss: 0.5408 - val_accuracy: 0.7388\n",
            "Epoch 68/100\n",
            "684/684 [==============================] - 2s 2ms/step - loss: 0.5426 - accuracy: 0.7340 - val_loss: 0.5413 - val_accuracy: 0.7362\n",
            "Epoch 69/100\n",
            "684/684 [==============================] - 2s 2ms/step - loss: 0.5425 - accuracy: 0.7361 - val_loss: 0.5417 - val_accuracy: 0.7403\n",
            "Epoch 70/100\n",
            "684/684 [==============================] - 1s 2ms/step - loss: 0.5421 - accuracy: 0.7346 - val_loss: 0.5410 - val_accuracy: 0.7378\n",
            "Epoch 71/100\n",
            "684/684 [==============================] - 2s 2ms/step - loss: 0.5421 - accuracy: 0.7348 - val_loss: 0.5412 - val_accuracy: 0.7398\n",
            "Epoch 72/100\n",
            "684/684 [==============================] - 1s 2ms/step - loss: 0.5421 - accuracy: 0.7335 - val_loss: 0.5416 - val_accuracy: 0.7378\n",
            "Epoch 73/100\n",
            "684/684 [==============================] - 1s 2ms/step - loss: 0.5422 - accuracy: 0.7345 - val_loss: 0.5408 - val_accuracy: 0.7385\n",
            "Epoch 74/100\n",
            "684/684 [==============================] - 2s 2ms/step - loss: 0.5420 - accuracy: 0.7351 - val_loss: 0.5411 - val_accuracy: 0.7362\n",
            "Epoch 75/100\n",
            "684/684 [==============================] - 2s 2ms/step - loss: 0.5421 - accuracy: 0.7349 - val_loss: 0.5405 - val_accuracy: 0.7372\n",
            "Epoch 76/100\n",
            "684/684 [==============================] - 1s 2ms/step - loss: 0.5419 - accuracy: 0.7350 - val_loss: 0.5404 - val_accuracy: 0.7362\n",
            "Epoch 77/100\n",
            "684/684 [==============================] - 2s 2ms/step - loss: 0.5417 - accuracy: 0.7351 - val_loss: 0.5422 - val_accuracy: 0.7401\n",
            "Epoch 78/100\n",
            "684/684 [==============================] - 1s 2ms/step - loss: 0.5417 - accuracy: 0.7342 - val_loss: 0.5416 - val_accuracy: 0.7378\n",
            "Epoch 79/100\n",
            "684/684 [==============================] - 2s 2ms/step - loss: 0.5419 - accuracy: 0.7342 - val_loss: 0.5419 - val_accuracy: 0.7396\n",
            "Epoch 80/100\n",
            "684/684 [==============================] - 1s 2ms/step - loss: 0.5415 - accuracy: 0.7347 - val_loss: 0.5436 - val_accuracy: 0.7414\n",
            "Epoch 81/100\n",
            "684/684 [==============================] - 1s 2ms/step - loss: 0.5418 - accuracy: 0.7342 - val_loss: 0.5409 - val_accuracy: 0.7370\n",
            "Epoch 82/100\n",
            "684/684 [==============================] - 1s 2ms/step - loss: 0.5419 - accuracy: 0.7352 - val_loss: 0.5399 - val_accuracy: 0.7378\n",
            "Epoch 83/100\n",
            "684/684 [==============================] - 1s 2ms/step - loss: 0.5418 - accuracy: 0.7351 - val_loss: 0.5414 - val_accuracy: 0.7370\n",
            "Epoch 84/100\n",
            "684/684 [==============================] - 2s 2ms/step - loss: 0.5419 - accuracy: 0.7354 - val_loss: 0.5407 - val_accuracy: 0.7375\n",
            "Epoch 85/100\n",
            "684/684 [==============================] - 1s 2ms/step - loss: 0.5419 - accuracy: 0.7349 - val_loss: 0.5407 - val_accuracy: 0.7383\n",
            "Epoch 86/100\n",
            "684/684 [==============================] - 1s 2ms/step - loss: 0.5416 - accuracy: 0.7339 - val_loss: 0.5403 - val_accuracy: 0.7375\n",
            "Epoch 87/100\n",
            "684/684 [==============================] - 1s 2ms/step - loss: 0.5415 - accuracy: 0.7345 - val_loss: 0.5413 - val_accuracy: 0.7372\n",
            "Epoch 88/100\n",
            "684/684 [==============================] - 1s 2ms/step - loss: 0.5415 - accuracy: 0.7355 - val_loss: 0.5418 - val_accuracy: 0.7346\n",
            "Epoch 89/100\n",
            "684/684 [==============================] - 2s 2ms/step - loss: 0.5417 - accuracy: 0.7335 - val_loss: 0.5408 - val_accuracy: 0.7372\n",
            "Epoch 90/100\n",
            "684/684 [==============================] - 1s 2ms/step - loss: 0.5413 - accuracy: 0.7350 - val_loss: 0.5401 - val_accuracy: 0.7362\n",
            "Epoch 91/100\n",
            "684/684 [==============================] - 2s 2ms/step - loss: 0.5412 - accuracy: 0.7351 - val_loss: 0.5407 - val_accuracy: 0.7362\n",
            "Epoch 92/100\n",
            "684/684 [==============================] - 2s 2ms/step - loss: 0.5411 - accuracy: 0.7339 - val_loss: 0.5399 - val_accuracy: 0.7380\n",
            "Epoch 93/100\n",
            "684/684 [==============================] - 2s 2ms/step - loss: 0.5409 - accuracy: 0.7346 - val_loss: 0.5417 - val_accuracy: 0.7401\n",
            "Epoch 94/100\n",
            "684/684 [==============================] - 1s 2ms/step - loss: 0.5412 - accuracy: 0.7335 - val_loss: 0.5405 - val_accuracy: 0.7375\n",
            "Epoch 95/100\n",
            "684/684 [==============================] - 1s 2ms/step - loss: 0.5408 - accuracy: 0.7352 - val_loss: 0.5403 - val_accuracy: 0.7378\n",
            "Epoch 96/100\n",
            "684/684 [==============================] - 1s 2ms/step - loss: 0.5411 - accuracy: 0.7352 - val_loss: 0.5404 - val_accuracy: 0.7367\n",
            "Epoch 97/100\n",
            "684/684 [==============================] - 1s 2ms/step - loss: 0.5412 - accuracy: 0.7346 - val_loss: 0.5411 - val_accuracy: 0.7383\n",
            "Epoch 98/100\n",
            "684/684 [==============================] - 1s 2ms/step - loss: 0.5411 - accuracy: 0.7346 - val_loss: 0.5405 - val_accuracy: 0.7375\n",
            "Epoch 99/100\n",
            "684/684 [==============================] - 1s 2ms/step - loss: 0.5409 - accuracy: 0.7357 - val_loss: 0.5409 - val_accuracy: 0.7383\n",
            "Epoch 100/100\n",
            "684/684 [==============================] - 2s 2ms/step - loss: 0.5411 - accuracy: 0.7360 - val_loss: 0.5397 - val_accuracy: 0.7393\n"
          ]
        }
      ]
    },
    {
      "cell_type": "markdown",
      "source": [
        "Adding a Third Hidden Layer, changing the activation function from Relu to Sigmoid and increasing the number of Epochs from 100 to 150  to increase the Predictive Accuracy"
      ],
      "metadata": {
        "id": "cy_gcb5dW_u_"
      }
    },
    {
      "cell_type": "code",
      "source": [
        "# Define the model - deep neural net, i.e., the number of input features and hidden nodes for each layer.\n",
        "number_input_features = len( X_train_scaled[0])\n",
        "hidden_nodes_layer1=8\n",
        "hidden_nodes_layer2=16\n",
        "hidden_nodes_layer3=16\n",
        "nn = tf.keras.models.Sequential()\n",
        "\n",
        "\n",
        "# First hidden layer\n",
        "nn.add(tf.keras.layers.Dense(units=hidden_nodes_layer1, input_dim=number_input_features, activation='relu'))\n",
        "\n",
        "# Second hidden layer\n",
        "nn.add(tf.keras.layers.Dense(units=hidden_nodes_layer2, activation='relu'))\n",
        "\n",
        "# Third hidden layer\n",
        "nn.add(tf.keras.layers.Dense(units=hidden_nodes_layer3, activation='relu'))\n",
        "\n",
        "# Output layer\n",
        "nn.add(tf.keras.layers.Dense(units=1, activation='relu'))\n",
        "\n",
        "# Check the structure of the model\n",
        "nn.summary()"
      ],
      "metadata": {
        "colab": {
          "base_uri": "https://localhost:8080/"
        },
        "id": "T0W-5yTaKZ1F",
        "outputId": "20e92642-d18f-4822-9d1b-adb45f1d3a93"
      },
      "execution_count": 26,
      "outputs": [
        {
          "output_type": "stream",
          "name": "stdout",
          "text": [
            "Model: \"sequential_2\"\n",
            "_________________________________________________________________\n",
            " Layer (type)                Output Shape              Param #   \n",
            "=================================================================\n",
            " dense_7 (Dense)             (None, 8)                 464       \n",
            "                                                                 \n",
            " dense_8 (Dense)             (None, 16)                144       \n",
            "                                                                 \n",
            " dense_9 (Dense)             (None, 16)                272       \n",
            "                                                                 \n",
            " dense_10 (Dense)            (None, 1)                 17        \n",
            "                                                                 \n",
            "=================================================================\n",
            "Total params: 897\n",
            "Trainable params: 897\n",
            "Non-trainable params: 0\n",
            "_________________________________________________________________\n"
          ]
        }
      ]
    },
    {
      "cell_type": "code",
      "source": [
        "# Compile the model\n",
        "nn.compile(loss = 'binary_crossentropy', optimizer = 'adam', metrics=['accuracy'])\n",
        "\n",
        "# Train the model\n",
        "fit_model = nn.fit(X_train_scaled,y_train,validation_split=0.20, epochs=150)"
      ],
      "metadata": {
        "colab": {
          "base_uri": "https://localhost:8080/"
        },
        "id": "VYNt_ocvK3m8",
        "outputId": "c8efdbd4-c2aa-49d2-ec20-9505f511e888"
      },
      "execution_count": 29,
      "outputs": [
        {
          "output_type": "stream",
          "name": "stdout",
          "text": [
            "Epoch 1/150\n",
            "644/644 [==============================] - 2s 3ms/step - loss: 0.5652 - accuracy: 0.7326 - val_loss: 0.5683 - val_accuracy: 0.7378\n",
            "Epoch 2/150\n",
            "644/644 [==============================] - 2s 2ms/step - loss: 0.5547 - accuracy: 0.7320 - val_loss: 0.5540 - val_accuracy: 0.7394\n",
            "Epoch 3/150\n",
            "644/644 [==============================] - 2s 2ms/step - loss: 0.5516 - accuracy: 0.7332 - val_loss: 0.5477 - val_accuracy: 0.7390\n",
            "Epoch 4/150\n",
            "644/644 [==============================] - 2s 2ms/step - loss: 0.5532 - accuracy: 0.7323 - val_loss: 0.5511 - val_accuracy: 0.7353\n",
            "Epoch 5/150\n",
            "644/644 [==============================] - 2s 2ms/step - loss: 0.5510 - accuracy: 0.7325 - val_loss: 0.5526 - val_accuracy: 0.7370\n",
            "Epoch 6/150\n",
            "644/644 [==============================] - 1s 2ms/step - loss: 0.5510 - accuracy: 0.7338 - val_loss: 0.5520 - val_accuracy: 0.7355\n",
            "Epoch 7/150\n",
            "644/644 [==============================] - 2s 3ms/step - loss: 0.5507 - accuracy: 0.7329 - val_loss: 0.5495 - val_accuracy: 0.7318\n",
            "Epoch 8/150\n",
            "644/644 [==============================] - 2s 3ms/step - loss: 0.5478 - accuracy: 0.7309 - val_loss: 0.5491 - val_accuracy: 0.7361\n",
            "Epoch 9/150\n",
            "644/644 [==============================] - 2s 2ms/step - loss: 0.5466 - accuracy: 0.7325 - val_loss: 0.5475 - val_accuracy: 0.7388\n",
            "Epoch 10/150\n",
            "644/644 [==============================] - 1s 2ms/step - loss: 0.5499 - accuracy: 0.7335 - val_loss: 0.5459 - val_accuracy: 0.7368\n",
            "Epoch 11/150\n",
            "644/644 [==============================] - 1s 2ms/step - loss: 0.5618 - accuracy: 0.7317 - val_loss: 0.5594 - val_accuracy: 0.7329\n",
            "Epoch 12/150\n",
            "644/644 [==============================] - 1s 2ms/step - loss: 0.5554 - accuracy: 0.7334 - val_loss: 0.5603 - val_accuracy: 0.7362\n",
            "Epoch 13/150\n",
            "644/644 [==============================] - 1s 2ms/step - loss: 0.5483 - accuracy: 0.7323 - val_loss: 0.5538 - val_accuracy: 0.7370\n",
            "Epoch 14/150\n",
            "644/644 [==============================] - 1s 2ms/step - loss: 0.5457 - accuracy: 0.7334 - val_loss: 0.5582 - val_accuracy: 0.7368\n",
            "Epoch 15/150\n",
            "644/644 [==============================] - 2s 2ms/step - loss: 0.5449 - accuracy: 0.7330 - val_loss: 0.5592 - val_accuracy: 0.7361\n",
            "Epoch 16/150\n",
            "644/644 [==============================] - 1s 2ms/step - loss: 0.5483 - accuracy: 0.7322 - val_loss: 0.5563 - val_accuracy: 0.7361\n",
            "Epoch 17/150\n",
            "644/644 [==============================] - 1s 2ms/step - loss: 0.5453 - accuracy: 0.7326 - val_loss: 0.5707 - val_accuracy: 0.7382\n",
            "Epoch 18/150\n",
            "644/644 [==============================] - 1s 2ms/step - loss: 0.5453 - accuracy: 0.7339 - val_loss: 0.5535 - val_accuracy: 0.7353\n",
            "Epoch 19/150\n",
            "644/644 [==============================] - 2s 2ms/step - loss: 0.5441 - accuracy: 0.7333 - val_loss: 0.5544 - val_accuracy: 0.7390\n",
            "Epoch 20/150\n",
            "644/644 [==============================] - 2s 3ms/step - loss: 0.5451 - accuracy: 0.7340 - val_loss: 0.5516 - val_accuracy: 0.7357\n",
            "Epoch 21/150\n",
            "644/644 [==============================] - 1s 2ms/step - loss: 0.5567 - accuracy: 0.7314 - val_loss: 0.5528 - val_accuracy: 0.7361\n",
            "Epoch 22/150\n",
            "644/644 [==============================] - 1s 2ms/step - loss: 0.5468 - accuracy: 0.7323 - val_loss: 0.5519 - val_accuracy: 0.7372\n",
            "Epoch 23/150\n",
            "644/644 [==============================] - 1s 2ms/step - loss: 0.5448 - accuracy: 0.7327 - val_loss: 0.5519 - val_accuracy: 0.7357\n",
            "Epoch 24/150\n",
            "644/644 [==============================] - 2s 2ms/step - loss: 0.5449 - accuracy: 0.7347 - val_loss: 0.5488 - val_accuracy: 0.7359\n",
            "Epoch 25/150\n",
            "644/644 [==============================] - 1s 2ms/step - loss: 0.5453 - accuracy: 0.7328 - val_loss: 0.5526 - val_accuracy: 0.7374\n",
            "Epoch 26/150\n",
            "644/644 [==============================] - 1s 2ms/step - loss: 0.5456 - accuracy: 0.7329 - val_loss: 0.5583 - val_accuracy: 0.7349\n",
            "Epoch 27/150\n",
            "644/644 [==============================] - 1s 2ms/step - loss: 0.5475 - accuracy: 0.7323 - val_loss: 0.5566 - val_accuracy: 0.7331\n",
            "Epoch 28/150\n",
            "644/644 [==============================] - 2s 3ms/step - loss: 0.5466 - accuracy: 0.7329 - val_loss: 0.5532 - val_accuracy: 0.7368\n",
            "Epoch 29/150\n",
            "644/644 [==============================] - 2s 2ms/step - loss: 0.5462 - accuracy: 0.7324 - val_loss: 0.5513 - val_accuracy: 0.7362\n",
            "Epoch 30/150\n",
            "644/644 [==============================] - 2s 2ms/step - loss: 0.5454 - accuracy: 0.7326 - val_loss: 0.5526 - val_accuracy: 0.7380\n",
            "Epoch 31/150\n",
            "644/644 [==============================] - 2s 2ms/step - loss: 0.5492 - accuracy: 0.7333 - val_loss: 0.5559 - val_accuracy: 0.7380\n",
            "Epoch 32/150\n",
            "644/644 [==============================] - 1s 2ms/step - loss: 0.5475 - accuracy: 0.7338 - val_loss: 0.5574 - val_accuracy: 0.7362\n",
            "Epoch 33/150\n",
            "644/644 [==============================] - 2s 2ms/step - loss: 0.5577 - accuracy: 0.7339 - val_loss: 0.5537 - val_accuracy: 0.7353\n",
            "Epoch 34/150\n",
            "644/644 [==============================] - 1s 2ms/step - loss: 0.5489 - accuracy: 0.7325 - val_loss: 0.5497 - val_accuracy: 0.7368\n",
            "Epoch 35/150\n",
            "644/644 [==============================] - 2s 2ms/step - loss: 0.5467 - accuracy: 0.7350 - val_loss: 0.5704 - val_accuracy: 0.7324\n",
            "Epoch 36/150\n",
            "644/644 [==============================] - 1s 2ms/step - loss: 0.5507 - accuracy: 0.7331 - val_loss: 0.5503 - val_accuracy: 0.7361\n",
            "Epoch 37/150\n",
            "644/644 [==============================] - 1s 2ms/step - loss: 0.5509 - accuracy: 0.7333 - val_loss: 0.5605 - val_accuracy: 0.7362\n",
            "Epoch 38/150\n",
            "644/644 [==============================] - 2s 2ms/step - loss: 0.5469 - accuracy: 0.7339 - val_loss: 0.5585 - val_accuracy: 0.7345\n",
            "Epoch 39/150\n",
            "644/644 [==============================] - 2s 2ms/step - loss: 0.5453 - accuracy: 0.7344 - val_loss: 0.5583 - val_accuracy: 0.7359\n",
            "Epoch 40/150\n",
            "644/644 [==============================] - 1s 2ms/step - loss: 0.5458 - accuracy: 0.7351 - val_loss: 0.5692 - val_accuracy: 0.7339\n",
            "Epoch 41/150\n",
            "644/644 [==============================] - 2s 2ms/step - loss: 0.5451 - accuracy: 0.7340 - val_loss: 0.5555 - val_accuracy: 0.7366\n",
            "Epoch 42/150\n",
            "644/644 [==============================] - 3s 4ms/step - loss: 0.5456 - accuracy: 0.7340 - val_loss: 0.5529 - val_accuracy: 0.7359\n",
            "Epoch 43/150\n",
            "644/644 [==============================] - 2s 2ms/step - loss: 0.5444 - accuracy: 0.7343 - val_loss: 0.5503 - val_accuracy: 0.7347\n",
            "Epoch 44/150\n",
            "644/644 [==============================] - 2s 3ms/step - loss: 0.5462 - accuracy: 0.7327 - val_loss: 0.5622 - val_accuracy: 0.7362\n",
            "Epoch 45/150\n",
            "644/644 [==============================] - 2s 4ms/step - loss: 0.5472 - accuracy: 0.7349 - val_loss: 0.5519 - val_accuracy: 0.7341\n",
            "Epoch 46/150\n",
            "644/644 [==============================] - 2s 2ms/step - loss: 0.5461 - accuracy: 0.7328 - val_loss: 0.5607 - val_accuracy: 0.7366\n",
            "Epoch 47/150\n",
            "644/644 [==============================] - 2s 2ms/step - loss: 0.5497 - accuracy: 0.7340 - val_loss: 0.5574 - val_accuracy: 0.7361\n",
            "Epoch 48/150\n",
            "644/644 [==============================] - 2s 2ms/step - loss: 0.5465 - accuracy: 0.7339 - val_loss: 0.5555 - val_accuracy: 0.7357\n",
            "Epoch 49/150\n",
            "644/644 [==============================] - 2s 2ms/step - loss: 0.5469 - accuracy: 0.7344 - val_loss: 0.5529 - val_accuracy: 0.7345\n",
            "Epoch 50/150\n",
            "644/644 [==============================] - 2s 3ms/step - loss: 0.5459 - accuracy: 0.7342 - val_loss: 0.5593 - val_accuracy: 0.7361\n",
            "Epoch 51/150\n",
            "644/644 [==============================] - 1s 2ms/step - loss: 0.5557 - accuracy: 0.7337 - val_loss: 0.5576 - val_accuracy: 0.7349\n",
            "Epoch 52/150\n",
            "644/644 [==============================] - 2s 3ms/step - loss: 0.5497 - accuracy: 0.7350 - val_loss: 0.5560 - val_accuracy: 0.7355\n",
            "Epoch 53/150\n",
            "644/644 [==============================] - 2s 3ms/step - loss: 0.5460 - accuracy: 0.7342 - val_loss: 0.5500 - val_accuracy: 0.7359\n",
            "Epoch 54/150\n",
            "644/644 [==============================] - 2s 3ms/step - loss: 0.5534 - accuracy: 0.7328 - val_loss: 0.5621 - val_accuracy: 0.7364\n",
            "Epoch 55/150\n",
            "644/644 [==============================] - 3s 4ms/step - loss: 0.5527 - accuracy: 0.7336 - val_loss: 0.5488 - val_accuracy: 0.7374\n",
            "Epoch 56/150\n",
            "644/644 [==============================] - 1s 2ms/step - loss: 0.5448 - accuracy: 0.7342 - val_loss: 0.5561 - val_accuracy: 0.7380\n",
            "Epoch 57/150\n",
            "644/644 [==============================] - 2s 3ms/step - loss: 0.5458 - accuracy: 0.7343 - val_loss: 0.5576 - val_accuracy: 0.7364\n",
            "Epoch 58/150\n",
            "644/644 [==============================] - 2s 4ms/step - loss: 0.5474 - accuracy: 0.7345 - val_loss: 0.5527 - val_accuracy: 0.7361\n",
            "Epoch 59/150\n",
            "644/644 [==============================] - 2s 3ms/step - loss: 0.5447 - accuracy: 0.7338 - val_loss: 0.5605 - val_accuracy: 0.7378\n",
            "Epoch 60/150\n",
            "644/644 [==============================] - 2s 3ms/step - loss: 0.5468 - accuracy: 0.7335 - val_loss: 0.5564 - val_accuracy: 0.7347\n",
            "Epoch 61/150\n",
            "644/644 [==============================] - 1s 2ms/step - loss: 0.5467 - accuracy: 0.7344 - val_loss: 0.5585 - val_accuracy: 0.7353\n",
            "Epoch 62/150\n",
            "644/644 [==============================] - 2s 3ms/step - loss: 0.5454 - accuracy: 0.7346 - val_loss: 0.5592 - val_accuracy: 0.7366\n",
            "Epoch 63/150\n",
            "644/644 [==============================] - 2s 2ms/step - loss: 0.5466 - accuracy: 0.7347 - val_loss: 0.5544 - val_accuracy: 0.7364\n",
            "Epoch 64/150\n",
            "644/644 [==============================] - 2s 3ms/step - loss: 0.5449 - accuracy: 0.7340 - val_loss: 0.5658 - val_accuracy: 0.7372\n",
            "Epoch 65/150\n",
            "644/644 [==============================] - 2s 3ms/step - loss: 0.5497 - accuracy: 0.7339 - val_loss: 0.5645 - val_accuracy: 0.7368\n",
            "Epoch 66/150\n",
            "644/644 [==============================] - 2s 3ms/step - loss: 0.5602 - accuracy: 0.7327 - val_loss: 0.5601 - val_accuracy: 0.7357\n",
            "Epoch 67/150\n",
            "644/644 [==============================] - 2s 2ms/step - loss: 0.5496 - accuracy: 0.7343 - val_loss: 0.5679 - val_accuracy: 0.7359\n",
            "Epoch 68/150\n",
            "644/644 [==============================] - 2s 4ms/step - loss: 0.5462 - accuracy: 0.7348 - val_loss: 0.5609 - val_accuracy: 0.7364\n",
            "Epoch 69/150\n",
            "644/644 [==============================] - 2s 3ms/step - loss: 0.5453 - accuracy: 0.7341 - val_loss: 0.5614 - val_accuracy: 0.7362\n",
            "Epoch 70/150\n",
            "644/644 [==============================] - 2s 2ms/step - loss: 0.5589 - accuracy: 0.7304 - val_loss: 0.5650 - val_accuracy: 0.7331\n",
            "Epoch 71/150\n",
            "644/644 [==============================] - 1s 2ms/step - loss: 0.5474 - accuracy: 0.7329 - val_loss: 0.5614 - val_accuracy: 0.7341\n",
            "Epoch 72/150\n",
            "644/644 [==============================] - 2s 3ms/step - loss: 0.5489 - accuracy: 0.7332 - val_loss: 0.5628 - val_accuracy: 0.7329\n",
            "Epoch 73/150\n",
            "644/644 [==============================] - 2s 3ms/step - loss: 0.5457 - accuracy: 0.7346 - val_loss: 0.5572 - val_accuracy: 0.7359\n",
            "Epoch 74/150\n",
            "644/644 [==============================] - 2s 3ms/step - loss: 0.5443 - accuracy: 0.7348 - val_loss: 0.5608 - val_accuracy: 0.7353\n",
            "Epoch 75/150\n",
            "644/644 [==============================] - 2s 3ms/step - loss: 0.5427 - accuracy: 0.7353 - val_loss: 0.5495 - val_accuracy: 0.7357\n",
            "Epoch 76/150\n",
            "644/644 [==============================] - 2s 3ms/step - loss: 0.5480 - accuracy: 0.7356 - val_loss: 0.5531 - val_accuracy: 0.7361\n",
            "Epoch 77/150\n",
            "644/644 [==============================] - 2s 2ms/step - loss: 0.5449 - accuracy: 0.7349 - val_loss: 0.5536 - val_accuracy: 0.7370\n",
            "Epoch 78/150\n",
            "644/644 [==============================] - 2s 3ms/step - loss: 0.5458 - accuracy: 0.7354 - val_loss: 0.5561 - val_accuracy: 0.7382\n",
            "Epoch 79/150\n",
            "644/644 [==============================] - 1s 2ms/step - loss: 0.5448 - accuracy: 0.7352 - val_loss: 0.5569 - val_accuracy: 0.7366\n",
            "Epoch 80/150\n",
            "644/644 [==============================] - 2s 3ms/step - loss: 0.5475 - accuracy: 0.7338 - val_loss: 0.5586 - val_accuracy: 0.7339\n",
            "Epoch 81/150\n",
            "644/644 [==============================] - 2s 3ms/step - loss: 0.5470 - accuracy: 0.7334 - val_loss: 0.5631 - val_accuracy: 0.7355\n",
            "Epoch 82/150\n",
            "644/644 [==============================] - 2s 3ms/step - loss: 0.5448 - accuracy: 0.7352 - val_loss: 0.5609 - val_accuracy: 0.7378\n",
            "Epoch 83/150\n",
            "644/644 [==============================] - 2s 3ms/step - loss: 0.5456 - accuracy: 0.7336 - val_loss: 0.5817 - val_accuracy: 0.7362\n",
            "Epoch 84/150\n",
            "644/644 [==============================] - 2s 3ms/step - loss: 0.5446 - accuracy: 0.7341 - val_loss: 0.5588 - val_accuracy: 0.7376\n",
            "Epoch 85/150\n",
            "644/644 [==============================] - 2s 3ms/step - loss: 0.5433 - accuracy: 0.7351 - val_loss: 0.5562 - val_accuracy: 0.7390\n",
            "Epoch 86/150\n",
            "644/644 [==============================] - 2s 3ms/step - loss: 0.5451 - accuracy: 0.7346 - val_loss: 0.5601 - val_accuracy: 0.7376\n",
            "Epoch 87/150\n",
            "644/644 [==============================] - 2s 3ms/step - loss: 0.5435 - accuracy: 0.7347 - val_loss: 0.5593 - val_accuracy: 0.7361\n",
            "Epoch 88/150\n",
            "644/644 [==============================] - 2s 3ms/step - loss: 0.5459 - accuracy: 0.7347 - val_loss: 0.5616 - val_accuracy: 0.7366\n",
            "Epoch 89/150\n",
            "644/644 [==============================] - 2s 3ms/step - loss: 0.5482 - accuracy: 0.7352 - val_loss: 0.5661 - val_accuracy: 0.7357\n",
            "Epoch 90/150\n",
            "644/644 [==============================] - 2s 3ms/step - loss: 0.5530 - accuracy: 0.7352 - val_loss: 0.5657 - val_accuracy: 0.7368\n",
            "Epoch 91/150\n",
            "644/644 [==============================] - 2s 3ms/step - loss: 0.5488 - accuracy: 0.7350 - val_loss: 0.5644 - val_accuracy: 0.7362\n",
            "Epoch 92/150\n",
            "644/644 [==============================] - 2s 2ms/step - loss: 0.5467 - accuracy: 0.7345 - val_loss: 0.5605 - val_accuracy: 0.7370\n",
            "Epoch 93/150\n",
            "644/644 [==============================] - 2s 3ms/step - loss: 0.5459 - accuracy: 0.7348 - val_loss: 0.5565 - val_accuracy: 0.7372\n",
            "Epoch 94/150\n",
            "644/644 [==============================] - 1s 2ms/step - loss: 0.5472 - accuracy: 0.7350 - val_loss: 0.5542 - val_accuracy: 0.7366\n",
            "Epoch 95/150\n",
            "644/644 [==============================] - 1s 2ms/step - loss: 0.5476 - accuracy: 0.7350 - val_loss: 0.5639 - val_accuracy: 0.7372\n",
            "Epoch 96/150\n",
            "644/644 [==============================] - 2s 3ms/step - loss: 0.5495 - accuracy: 0.7339 - val_loss: 0.5515 - val_accuracy: 0.7355\n",
            "Epoch 97/150\n",
            "644/644 [==============================] - 2s 3ms/step - loss: 0.5533 - accuracy: 0.7340 - val_loss: 0.5522 - val_accuracy: 0.7328\n",
            "Epoch 98/150\n",
            "644/644 [==============================] - 2s 3ms/step - loss: 0.5476 - accuracy: 0.7363 - val_loss: 0.5616 - val_accuracy: 0.7351\n",
            "Epoch 99/150\n",
            "644/644 [==============================] - 2s 3ms/step - loss: 0.5491 - accuracy: 0.7368 - val_loss: 0.5589 - val_accuracy: 0.7353\n",
            "Epoch 100/150\n",
            "644/644 [==============================] - 2s 3ms/step - loss: 0.5496 - accuracy: 0.7347 - val_loss: 0.5520 - val_accuracy: 0.7361\n",
            "Epoch 101/150\n",
            "644/644 [==============================] - 2s 3ms/step - loss: 0.5474 - accuracy: 0.7346 - val_loss: 0.5539 - val_accuracy: 0.7337\n",
            "Epoch 102/150\n",
            "644/644 [==============================] - 2s 4ms/step - loss: 0.5517 - accuracy: 0.7343 - val_loss: 0.5553 - val_accuracy: 0.7364\n",
            "Epoch 103/150\n",
            "644/644 [==============================] - 3s 4ms/step - loss: 0.5493 - accuracy: 0.7354 - val_loss: 0.5706 - val_accuracy: 0.7351\n",
            "Epoch 104/150\n",
            "644/644 [==============================] - 2s 3ms/step - loss: 0.5475 - accuracy: 0.7357 - val_loss: 0.5566 - val_accuracy: 0.7357\n",
            "Epoch 105/150\n",
            "644/644 [==============================] - 3s 5ms/step - loss: 0.5494 - accuracy: 0.7358 - val_loss: 0.5548 - val_accuracy: 0.7368\n",
            "Epoch 106/150\n",
            "644/644 [==============================] - 2s 3ms/step - loss: 0.5454 - accuracy: 0.7350 - val_loss: 0.5653 - val_accuracy: 0.7374\n",
            "Epoch 107/150\n",
            "644/644 [==============================] - 3s 5ms/step - loss: 0.5470 - accuracy: 0.7355 - val_loss: 0.5648 - val_accuracy: 0.7364\n",
            "Epoch 108/150\n",
            "644/644 [==============================] - 3s 5ms/step - loss: 0.5495 - accuracy: 0.7353 - val_loss: 0.5719 - val_accuracy: 0.7362\n",
            "Epoch 109/150\n",
            "644/644 [==============================] - 2s 4ms/step - loss: 0.5574 - accuracy: 0.7358 - val_loss: 0.5648 - val_accuracy: 0.7331\n",
            "Epoch 110/150\n",
            "644/644 [==============================] - 2s 4ms/step - loss: 0.5474 - accuracy: 0.7353 - val_loss: 0.5640 - val_accuracy: 0.7364\n",
            "Epoch 111/150\n",
            "644/644 [==============================] - 2s 3ms/step - loss: 0.5499 - accuracy: 0.7347 - val_loss: 0.5599 - val_accuracy: 0.7364\n",
            "Epoch 112/150\n",
            "644/644 [==============================] - 2s 2ms/step - loss: 0.5461 - accuracy: 0.7353 - val_loss: 0.5634 - val_accuracy: 0.7364\n",
            "Epoch 113/150\n",
            "644/644 [==============================] - 2s 2ms/step - loss: 0.5477 - accuracy: 0.7348 - val_loss: 0.5548 - val_accuracy: 0.7355\n",
            "Epoch 114/150\n",
            "644/644 [==============================] - 2s 3ms/step - loss: 0.5485 - accuracy: 0.7346 - val_loss: 0.5542 - val_accuracy: 0.7339\n",
            "Epoch 115/150\n",
            "644/644 [==============================] - 2s 3ms/step - loss: 0.5478 - accuracy: 0.7351 - val_loss: 0.5526 - val_accuracy: 0.7339\n",
            "Epoch 116/150\n",
            "644/644 [==============================] - 2s 2ms/step - loss: 0.5513 - accuracy: 0.7353 - val_loss: 0.5602 - val_accuracy: 0.7372\n",
            "Epoch 117/150\n",
            "644/644 [==============================] - 2s 2ms/step - loss: 0.5473 - accuracy: 0.7350 - val_loss: 0.5652 - val_accuracy: 0.7353\n",
            "Epoch 118/150\n",
            "644/644 [==============================] - 2s 3ms/step - loss: 0.5463 - accuracy: 0.7337 - val_loss: 0.5686 - val_accuracy: 0.7357\n",
            "Epoch 119/150\n",
            "644/644 [==============================] - 2s 2ms/step - loss: 0.5492 - accuracy: 0.7339 - val_loss: 0.5628 - val_accuracy: 0.7333\n",
            "Epoch 120/150\n",
            "644/644 [==============================] - 1s 2ms/step - loss: 0.5512 - accuracy: 0.7337 - val_loss: 0.5608 - val_accuracy: 0.7357\n",
            "Epoch 121/150\n",
            "644/644 [==============================] - 2s 2ms/step - loss: 0.5484 - accuracy: 0.7354 - val_loss: 0.5565 - val_accuracy: 0.7353\n",
            "Epoch 122/150\n",
            "644/644 [==============================] - 2s 3ms/step - loss: 0.5477 - accuracy: 0.7361 - val_loss: 0.5594 - val_accuracy: 0.7347\n",
            "Epoch 123/150\n",
            "644/644 [==============================] - 1s 2ms/step - loss: 0.5743 - accuracy: 0.7358 - val_loss: 0.6368 - val_accuracy: 0.7347\n",
            "Epoch 124/150\n",
            "644/644 [==============================] - 2s 2ms/step - loss: 0.5650 - accuracy: 0.7339 - val_loss: 0.5620 - val_accuracy: 0.7339\n",
            "Epoch 125/150\n",
            "644/644 [==============================] - 2s 2ms/step - loss: 0.5478 - accuracy: 0.7345 - val_loss: 0.5622 - val_accuracy: 0.7339\n",
            "Epoch 126/150\n",
            "644/644 [==============================] - 2s 2ms/step - loss: 0.5477 - accuracy: 0.7345 - val_loss: 0.5621 - val_accuracy: 0.7364\n",
            "Epoch 127/150\n",
            "644/644 [==============================] - 2s 2ms/step - loss: 0.5479 - accuracy: 0.7362 - val_loss: 0.5620 - val_accuracy: 0.7345\n",
            "Epoch 128/150\n",
            "644/644 [==============================] - 2s 3ms/step - loss: 0.5455 - accuracy: 0.7362 - val_loss: 0.5719 - val_accuracy: 0.7328\n",
            "Epoch 129/150\n",
            "644/644 [==============================] - 2s 3ms/step - loss: 0.5496 - accuracy: 0.7353 - val_loss: 0.5542 - val_accuracy: 0.7345\n",
            "Epoch 130/150\n",
            "644/644 [==============================] - 1s 2ms/step - loss: 0.5469 - accuracy: 0.7347 - val_loss: 0.5596 - val_accuracy: 0.7339\n",
            "Epoch 131/150\n",
            "644/644 [==============================] - 2s 2ms/step - loss: 0.5545 - accuracy: 0.7356 - val_loss: 0.5582 - val_accuracy: 0.7355\n",
            "Epoch 132/150\n",
            "644/644 [==============================] - 2s 2ms/step - loss: 0.5506 - accuracy: 0.7343 - val_loss: 0.5853 - val_accuracy: 0.7304\n",
            "Epoch 133/150\n",
            "644/644 [==============================] - 2s 2ms/step - loss: 0.5512 - accuracy: 0.7346 - val_loss: 0.5554 - val_accuracy: 0.7345\n",
            "Epoch 134/150\n",
            "644/644 [==============================] - 2s 3ms/step - loss: 0.5475 - accuracy: 0.7339 - val_loss: 0.5638 - val_accuracy: 0.7361\n",
            "Epoch 135/150\n",
            "644/644 [==============================] - 2s 3ms/step - loss: 0.5484 - accuracy: 0.7355 - val_loss: 0.5663 - val_accuracy: 0.7366\n",
            "Epoch 136/150\n",
            "644/644 [==============================] - 2s 2ms/step - loss: 0.5478 - accuracy: 0.7356 - val_loss: 0.5729 - val_accuracy: 0.7359\n",
            "Epoch 137/150\n",
            "644/644 [==============================] - 2s 2ms/step - loss: 0.5491 - accuracy: 0.7353 - val_loss: 0.5604 - val_accuracy: 0.7355\n",
            "Epoch 138/150\n",
            "644/644 [==============================] - 2s 2ms/step - loss: 0.5459 - accuracy: 0.7348 - val_loss: 0.5620 - val_accuracy: 0.7341\n",
            "Epoch 139/150\n",
            "644/644 [==============================] - 2s 2ms/step - loss: 0.5457 - accuracy: 0.7352 - val_loss: 0.5763 - val_accuracy: 0.7362\n",
            "Epoch 140/150\n",
            "644/644 [==============================] - 2s 3ms/step - loss: 0.5505 - accuracy: 0.7346 - val_loss: 0.5678 - val_accuracy: 0.7341\n",
            "Epoch 141/150\n",
            "644/644 [==============================] - 2s 3ms/step - loss: 0.5460 - accuracy: 0.7338 - val_loss: 0.5639 - val_accuracy: 0.7372\n",
            "Epoch 142/150\n",
            "644/644 [==============================] - 2s 2ms/step - loss: 0.5459 - accuracy: 0.7346 - val_loss: 0.6402 - val_accuracy: 0.7335\n",
            "Epoch 143/150\n",
            "644/644 [==============================] - 2s 2ms/step - loss: 0.5614 - accuracy: 0.7337 - val_loss: 0.5629 - val_accuracy: 0.7376\n",
            "Epoch 144/150\n",
            "644/644 [==============================] - 1s 2ms/step - loss: 0.5486 - accuracy: 0.7362 - val_loss: 0.5611 - val_accuracy: 0.7335\n",
            "Epoch 145/150\n",
            "644/644 [==============================] - 2s 3ms/step - loss: 0.5497 - accuracy: 0.7349 - val_loss: 0.5679 - val_accuracy: 0.7343\n",
            "Epoch 146/150\n",
            "644/644 [==============================] - 1s 2ms/step - loss: 0.5486 - accuracy: 0.7344 - val_loss: 0.5602 - val_accuracy: 0.7298\n",
            "Epoch 147/150\n",
            "644/644 [==============================] - 1s 2ms/step - loss: 0.5465 - accuracy: 0.7341 - val_loss: 0.5611 - val_accuracy: 0.7302\n",
            "Epoch 148/150\n",
            "644/644 [==============================] - 1s 2ms/step - loss: 0.5475 - accuracy: 0.7351 - val_loss: 0.5625 - val_accuracy: 0.7359\n",
            "Epoch 149/150\n",
            "644/644 [==============================] - 2s 2ms/step - loss: 0.5460 - accuracy: 0.7350 - val_loss: 0.5695 - val_accuracy: 0.7368\n",
            "Epoch 150/150\n",
            "644/644 [==============================] - 2s 2ms/step - loss: 0.5491 - accuracy: 0.7346 - val_loss: 0.5599 - val_accuracy: 0.7351\n"
          ]
        }
      ]
    },
    {
      "cell_type": "code",
      "source": [
        "# Evaluate the model using the test data\n",
        "model_loss, model_accuracy = nn.evaluate(X_test_scaled,y_test,verbose=2)\n",
        "print(f\"Loss: {model_loss}, Accuracy: {model_accuracy}\")"
      ],
      "metadata": {
        "colab": {
          "base_uri": "https://localhost:8080/"
        },
        "id": "jSbU8XdfMY4W",
        "outputId": "094ebd6f-31f4-4280-88a3-af02d775a856"
      },
      "execution_count": 28,
      "outputs": [
        {
          "output_type": "stream",
          "name": "stdout",
          "text": [
            "268/268 - 0s - loss: 0.5773 - accuracy: 0.7277 - 333ms/epoch - 1ms/step\n",
            "Loss: 0.5773361325263977, Accuracy: 0.7276967763900757\n"
          ]
        }
      ]
    },
    {
      "cell_type": "code",
      "source": [
        "# Export our model to HDF5 file\n",
        "from google.colab import files\n",
        "\n",
        "nn.save('/content/AlphabetSoupCharity.h5')\n",
        "files.download('/content/AlphabetSoupCharity.h5')"
      ],
      "metadata": {
        "colab": {
          "base_uri": "https://localhost:8080/",
          "height": 17
        },
        "id": "0jBzx6wyMYvz",
        "outputId": "f36c2b0a-090b-40b8-a5ef-2ac69571b803"
      },
      "execution_count": 30,
      "outputs": [
        {
          "output_type": "display_data",
          "data": {
            "text/plain": [
              "<IPython.core.display.Javascript object>"
            ],
            "application/javascript": [
              "\n",
              "    async function download(id, filename, size) {\n",
              "      if (!google.colab.kernel.accessAllowed) {\n",
              "        return;\n",
              "      }\n",
              "      const div = document.createElement('div');\n",
              "      const label = document.createElement('label');\n",
              "      label.textContent = `Downloading \"${filename}\": `;\n",
              "      div.appendChild(label);\n",
              "      const progress = document.createElement('progress');\n",
              "      progress.max = size;\n",
              "      div.appendChild(progress);\n",
              "      document.body.appendChild(div);\n",
              "\n",
              "      const buffers = [];\n",
              "      let downloaded = 0;\n",
              "\n",
              "      const channel = await google.colab.kernel.comms.open(id);\n",
              "      // Send a message to notify the kernel that we're ready.\n",
              "      channel.send({})\n",
              "\n",
              "      for await (const message of channel.messages) {\n",
              "        // Send a message to notify the kernel that we're ready.\n",
              "        channel.send({})\n",
              "        if (message.buffers) {\n",
              "          for (const buffer of message.buffers) {\n",
              "            buffers.push(buffer);\n",
              "            downloaded += buffer.byteLength;\n",
              "            progress.value = downloaded;\n",
              "          }\n",
              "        }\n",
              "      }\n",
              "      const blob = new Blob(buffers, {type: 'application/binary'});\n",
              "      const a = document.createElement('a');\n",
              "      a.href = window.URL.createObjectURL(blob);\n",
              "      a.download = filename;\n",
              "      div.appendChild(a);\n",
              "      a.click();\n",
              "      div.remove();\n",
              "    }\n",
              "  "
            ]
          },
          "metadata": {}
        },
        {
          "output_type": "display_data",
          "data": {
            "text/plain": [
              "<IPython.core.display.Javascript object>"
            ],
            "application/javascript": [
              "download(\"download_fd92d1ac-d3ee-4ddd-b423-43ad9b4d8764\", \"AlphabetSoupCharity.h5\", 49768)"
            ]
          },
          "metadata": {}
        }
      ]
    },
    {
      "cell_type": "code",
      "source": [],
      "metadata": {
        "id": "gmEKX85hMYhp"
      },
      "execution_count": null,
      "outputs": []
    },
    {
      "cell_type": "code",
      "source": [],
      "metadata": {
        "id": "aELhZOTPHBEx"
      },
      "execution_count": null,
      "outputs": []
    }
  ]
}